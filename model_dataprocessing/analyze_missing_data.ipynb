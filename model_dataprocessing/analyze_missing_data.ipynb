{
 "cells": [
  {
   "cell_type": "code",
   "execution_count": 6,
   "metadata": {},
   "outputs": [],
   "source": [
    "import pandas as pd\n",
    "from tqdm import tqdm\n",
    "\n",
    "skeleton_sentence_map_original = pd.read_csv(\"skeletonmap.csv\")"
   ]
  },
  {
   "cell_type": "code",
   "execution_count": 7,
   "metadata": {},
   "outputs": [],
   "source": [
    "\n",
    "selected_points_for_sign = [{\n",
    "    'limb': 'pose',\n",
    "    'points': range(8)\n",
    "},{\n",
    "    'limb': 'face',\n",
    "    'points': range(48, 68, 1)\n",
    "},{\n",
    "    'limb': 'hand_right',\n",
    "    'points': range(21)\n",
    "},{\n",
    "    'limb': 'hand_left',\n",
    "    'points': range(21)\n",
    "}\n",
    "]\n",
    "\n",
    "selected_columns = []\n",
    "\n",
    "for limb in selected_points_for_sign:\n",
    "    limb_name = limb['limb']\n",
    "    for point in limb['points']:\n",
    "        selected_columns.append(f\"{limb_name}_{point}_x\")\n",
    "        selected_columns.append(f\"{limb_name}_{point}_y\")\n",
    "\n",
    "selected_body_pose_points = []\n",
    "selected_hand_right_points = []\n",
    "selected_hand_left_points = []\n",
    "selected_face_points = []\n",
    "\n",
    "for point in selected_points_for_sign[0]['points']:\n",
    "    selected_body_pose_points.append(f\"pose_{point}_x\")\n",
    "    selected_body_pose_points.append(f\"pose_{point}_y\")\n",
    "\n",
    "for point in selected_points_for_sign[1]['points']:\n",
    "    selected_face_points.append(f\"face_{point}_x\")\n",
    "    selected_face_points.append(f\"face_{point}_y\")\n",
    "\n",
    "for point in selected_points_for_sign[2]['points']:\n",
    "    selected_hand_right_points.append(f\"hand_right_{point}_x\")\n",
    "    selected_hand_right_points.append(f\"hand_right_{point}_y\")\n",
    "\n",
    "for point in selected_points_for_sign[3]['points']:\n",
    "    selected_hand_left_points.append(f\"hand_left_{point}_x\")\n",
    "    selected_hand_left_points.append(f\"hand_left_{point}_y\")"
   ]
  },
  {
   "cell_type": "code",
   "execution_count": 8,
   "metadata": {},
   "outputs": [],
   "source": [
    "skeleton_sentence_map = skeleton_sentence_map_original[selected_columns]"
   ]
  },
  {
   "cell_type": "code",
   "execution_count": 9,
   "metadata": {},
   "outputs": [],
   "source": [
    "pose_points = skeleton_sentence_map.filter(regex='^pose_', axis=1)\n",
    "left_hand_points = skeleton_sentence_map.filter(regex='^hand_left_', axis=1)\n",
    "right_hand_points = skeleton_sentence_map.filter(regex='^hand_right_', axis=1)\n",
    "face_points = skeleton_sentence_map.filter(regex=\"^face_\", axis=1)"
   ]
  },
  {
   "cell_type": "code",
   "execution_count": 10,
   "metadata": {},
   "outputs": [
    {
     "data": {
      "text/plain": [
       "(1209181, 16)"
      ]
     },
     "execution_count": 10,
     "metadata": {},
     "output_type": "execute_result"
    }
   ],
   "source": [
    "pose_points.shape"
   ]
  },
  {
   "cell_type": "code",
   "execution_count": 11,
   "metadata": {},
   "outputs": [
    {
     "data": {
      "text/plain": [
       "(1209181, 42)"
      ]
     },
     "execution_count": 11,
     "metadata": {},
     "output_type": "execute_result"
    }
   ],
   "source": [
    "left_hand_points.shape"
   ]
  },
  {
   "cell_type": "code",
   "execution_count": 12,
   "metadata": {},
   "outputs": [
    {
     "data": {
      "text/plain": [
       "(1209181, 42)"
      ]
     },
     "execution_count": 12,
     "metadata": {},
     "output_type": "execute_result"
    }
   ],
   "source": [
    "right_hand_points.shape"
   ]
  },
  {
   "cell_type": "code",
   "execution_count": 13,
   "metadata": {},
   "outputs": [
    {
     "data": {
      "text/plain": [
       "(1209181, 40)"
      ]
     },
     "execution_count": 13,
     "metadata": {},
     "output_type": "execute_result"
    }
   ],
   "source": [
    "face_points.shape"
   ]
  },
  {
   "cell_type": "code",
   "execution_count": 21,
   "metadata": {},
   "outputs": [],
   "source": [
    "def calculate_zero_percentage(sample_dataframe):\n",
    "    return (sample_dataframe == 0).sum().sum() * 100 / (sample_dataframe.shape[0] * sample_dataframe.shape[1])"
   ]
  },
  {
   "cell_type": "code",
   "execution_count": 22,
   "metadata": {},
   "outputs": [
    {
     "name": "stdout",
     "output_type": "stream",
     "text": [
      "0.030599223772123447\n",
      "5.29560917678991\n",
      "12.769386882526272\n",
      "21.446417037647798\n"
     ]
    }
   ],
   "source": [
    "print(calculate_zero_percentage(face_points))\n",
    "print(calculate_zero_percentage(pose_points))\n",
    "print(calculate_zero_percentage(right_hand_points))\n",
    "print(calculate_zero_percentage(left_hand_points))"
   ]
  },
  {
   "cell_type": "code",
   "execution_count": 18,
   "metadata": {},
   "outputs": [
    {
     "data": {
      "text/plain": [
       "48367240"
      ]
     },
     "execution_count": 18,
     "metadata": {},
     "output_type": "execute_result"
    }
   ],
   "source": [
    "face_points.shape[0] * face_points.shape[1]"
   ]
  },
  {
   "cell_type": "code",
   "execution_count": null,
   "metadata": {},
   "outputs": [],
   "source": []
  }
 ],
 "metadata": {
  "kernelspec": {
   "display_name": "Python 3",
   "language": "python",
   "name": "python3"
  },
  "language_info": {
   "codemirror_mode": {
    "name": "ipython",
    "version": 3
   },
   "file_extension": ".py",
   "mimetype": "text/x-python",
   "name": "python",
   "nbconvert_exporter": "python",
   "pygments_lexer": "ipython3",
   "version": "3.7.13"
  },
  "orig_nbformat": 4
 },
 "nbformat": 4,
 "nbformat_minor": 2
}
